{
 "cells": [
  {
   "cell_type": "code",
   "execution_count": 1,
   "metadata": {},
   "outputs": [],
   "source": [
    "import random as rndm\n",
    "import time\n",
    "import tkinter as tk\n",
    "from tkinter import messagebox\n",
    "import math"
   ]
  },
  {
   "cell_type": "markdown",
   "metadata": {},
   "source": [
    "# Genetics"
   ]
  },
  {
   "cell_type": "code",
   "execution_count": 2,
   "metadata": {},
   "outputs": [],
   "source": [
    "# Population size\n",
    "POPULATION = 100\n",
    "\n",
    "# Number of generations\n",
    "REPETITION = 100\n",
    "\n",
    "# Probability of mutation\n",
    "PM = 0.1\n",
    "\n",
    "# Probability of crossover\n",
    "PC = 0.95"
   ]
  },
  {
   "cell_type": "code",
   "execution_count": 3,
   "metadata": {},
   "outputs": [],
   "source": [
    "def make_gene(size, initial=None):\n",
    "    if initial is None:\n",
    "        initial = [0] * size\n",
    "    mapp = {}\n",
    "    gene = list(range(1, size+1))\n",
    "    rndm.shuffle(gene)\n",
    "    for i in range(size):\n",
    "        mapp[gene[i]] = i\n",
    "    for i in range(size):\n",
    "        if initial[i] != 0 and gene[i] != initial[i]:\n",
    "            temp = gene[i], gene[mapp[initial[i]]]\n",
    "            gene[mapp[initial[i]]], gene[i] = temp\n",
    "            mapp[initial[i]], mapp[temp[0]] = i, mapp[initial[i]]\n",
    "    return gene"
   ]
  },
  {
   "cell_type": "code",
   "execution_count": 4,
   "metadata": {},
   "outputs": [],
   "source": [
    "def make_chromosome(size, initial=None):\n",
    "    if initial is None:\n",
    "        initial = [[0] * size] * size\n",
    "    chromosome = []\n",
    "    for i in range(size):\n",
    "        chromosome.append(make_gene(size, initial[i]))\n",
    "    return chromosome\n"
   ]
  },
  {
   "cell_type": "code",
   "execution_count": 5,
   "metadata": {},
   "outputs": [],
   "source": [
    "def make_population(count, size, initial=None):\n",
    "    if initial is None:\n",
    "        initial = [[0 for _ in range(size)] for _ in range(size)]\n",
    "    population = []\n",
    "    for _ in range(count):\n",
    "        population.append(make_chromosome(size, initial))\n",
    "    return population\n"
   ]
  },
  {
   "cell_type": "code",
   "execution_count": 6,
   "metadata": {},
   "outputs": [],
   "source": [
    "def get_fitness(size, chromosome):\n",
    "    fitness = 0\n",
    "    subgrid_height = 2 if size == 6 else int(size**0.5)\n",
    "    subgrid_width = 3 if size == 6 else int(size**0.5)\n",
    "    for i in range(len(chromosome)):  \n",
    "        seen = {}\n",
    "        for j in range(len(chromosome[i])):  \n",
    "            if chromosome[j][i] in seen:\n",
    "                seen[chromosome[j][i]] += 1\n",
    "            else:\n",
    "                seen[chromosome[j][i]] = 1\n",
    "        for key in seen:\n",
    "            fitness -= (seen[key] - 1)\n",
    "    for m in range(subgrid_height):\n",
    "        for n in range(subgrid_width):\n",
    "            seen = {}\n",
    "            for i in range(subgrid_width * n, min(subgrid_width * (n + 1), len(chromosome))): \n",
    "                for j in range(subgrid_height * m, min(subgrid_height * (m + 1), len(chromosome[i]))): \n",
    "                    if chromosome[j][i] in seen:\n",
    "                        seen[chromosome[j][i]] += 1\n",
    "                    else:\n",
    "                        seen[chromosome[j][i]] = 1\n",
    "            for key in seen:\n",
    "                fitness -= (seen[key] - 1)\n",
    "    return fitness\n",
    "\n"
   ]
  },
  {
   "cell_type": "code",
   "execution_count": 7,
   "metadata": {},
   "outputs": [],
   "source": [
    "def pch(ch):\n",
    "    for i in range(9):\n",
    "        for j in range(9):\n",
    "            print(ch[i][j], end=\" \")\n",
    "        print(\"\")\n"
   ]
  },
  {
   "cell_type": "code",
   "execution_count": 8,
   "metadata": {},
   "outputs": [],
   "source": [
    "def crossover(ch1, ch2):\n",
    "    new_child_1 = []\n",
    "    new_child_2 = []\n",
    "    for i in range(len(ch1)): \n",
    "        x = rndm.randint(0, 1)\n",
    "        if x == 1:\n",
    "            new_child_1.append(ch1[i])\n",
    "            new_child_2.append(ch2[i])\n",
    "        elif x == 0:\n",
    "            new_child_2.append(ch1[i])\n",
    "            new_child_1.append(ch2[i])\n",
    "    return new_child_1, new_child_2\n"
   ]
  },
  {
   "cell_type": "code",
   "execution_count": 9,
   "metadata": {},
   "outputs": [],
   "source": [
    "def mutation(size, ch, pm, initial):\n",
    "    for i in range(size):\n",
    "        x = rndm.randint(0, 100)\n",
    "        if x < pm * 100:\n",
    "            ch[i] = make_gene(size, initial[i])\n",
    "    return ch\n"
   ]
  },
  {
   "cell_type": "code",
   "execution_count": 10,
   "metadata": {},
   "outputs": [],
   "source": [
    "def read_puzzle_from_array(array):\n",
    "    return array"
   ]
  },
  {
   "cell_type": "code",
   "execution_count": 11,
   "metadata": {},
   "outputs": [],
   "source": [
    "def r_get_mating_pool(population, size):\n",
    "    fitness_list = []\n",
    "    pool = []\n",
    "    for chromosome in population:\n",
    "        fitness = get_fitness(size, chromosome)  \n",
    "        fitness_list.append((fitness, chromosome))\n",
    "    fitness_list.sort()\n",
    "    weight = list(range(1, len(fitness_list) + 1))\n",
    "    for _ in range(len(population)):\n",
    "        ch = rndm.choices(fitness_list, weight)[0]\n",
    "        pool.append(ch[1])\n",
    "    return pool\n"
   ]
  },
  {
   "cell_type": "code",
   "execution_count": 12,
   "metadata": {},
   "outputs": [],
   "source": [
    "def get_offsprings(population, size, initial, pm, pc):\n",
    "    new_pool = []\n",
    "    i = 0\n",
    "    while i < len(population):\n",
    "        ch1 = population[i]\n",
    "        ch2 = population[(i + 1) % len(population)]\n",
    "        x = rndm.randint(0, 100)\n",
    "        if x < pc * 100:\n",
    "            ch1, ch2 = crossover(ch1, ch2)\n",
    "        new_pool.append(mutation(size, ch1, pm, initial))\n",
    "        new_pool.append(mutation(size, ch2, pm, initial))\n",
    "        i += 2\n",
    "    return new_pool\n"
   ]
  },
  {
   "cell_type": "code",
   "execution_count": 13,
   "metadata": {},
   "outputs": [],
   "source": [
    "def create_grid(parent, size):\n",
    "    labels = []\n",
    "    for i in range(size):\n",
    "        row = []\n",
    "        for j in range(size):\n",
    "            label = tk.Label(master=parent, text=\" \", borderwidth=1, relief=\"solid\", width=2)\n",
    "            label.grid(row=i, column=j)\n",
    "            row.append(label)\n",
    "        labels.append(row)\n",
    "    return labels\n"
   ]
  },
  {
   "cell_type": "code",
   "execution_count": 14,
   "metadata": {},
   "outputs": [],
   "source": [
    "def update_grid(labels, size, state):\n",
    "    for i in range(size):\n",
    "        for j in range(size):\n",
    "            labels[i][j].config(text=str(state[i][j]))\n"
   ]
  },
  {
   "cell_type": "markdown",
   "metadata": {},
   "source": [
    "The main genetics algorithm"
   ]
  },
  {
   "cell_type": "code",
   "execution_count": 15,
   "metadata": {},
   "outputs": [],
   "source": [
    "def genetic_algorithm(initial_array, num_generations, pm, pc):\n",
    "    initial = read_puzzle_from_array(initial_array)\n",
    "    size = len(initial)\n",
    "    population = make_population(POPULATION, size, initial)\n",
    "    for generation in range(num_generations):\n",
    "        mating_pool = r_get_mating_pool(population, size)\n",
    "        rndm.shuffle(mating_pool)\n",
    "        population = get_offsprings(mating_pool, size, initial, pm, pc)\n",
    "        fit = [get_fitness(size, c) for c in population]  # Adjusted to two arguments\n",
    "        m = max(fit)\n",
    "        best_solution = population[fit.index(m)]\n",
    "        yield best_solution  # Yield the best solution found so far\n",
    "        if m == 0:\n",
    "            break"
   ]
  },
  {
   "cell_type": "markdown",
   "metadata": {},
   "source": [
    "# Main"
   ]
  },
  {
   "cell_type": "code",
   "execution_count": 16,
   "metadata": {},
   "outputs": [],
   "source": [
    "def button1_click():\n",
    "    root.withdraw()  # Hide the main window\n",
    "    grid_window(4)  # Open a new window with a 4x4 grid\n",
    "\n",
    "def button2_click():\n",
    "    root.withdraw()  # Hide the main window\n",
    "    grid_window(6)  # Open a new window with a 6x6 grid\n",
    "\n",
    "def button3_click():\n",
    "    root.withdraw()  # Hide the main window\n",
    "    grid_window(9)  # Open a new window with a 6x6 grid"
   ]
  },
  {
   "cell_type": "code",
   "execution_count": 17,
   "metadata": {},
   "outputs": [],
   "source": [
    "def submit_click():\n",
    "    print(\"Submit clicked\")\n",
    "    for i in range(size):\n",
    "        for j in range(size):\n",
    "            if entries[i][j].cget(\"bg\") == \"red\":\n",
    "                messagebox.showinfo(\"Validation Error\", \"The board needs to be validated first.\")\n",
    "                return\n",
    "    grid = [[entries[i][j].get() for j in range(size)] for i in range(size)]\n",
    "    for row in grid:\n",
    "        print(' '.join(row))\n",
    "    new_window.destroy()  # Close the current window\n",
    "    display_grid_window(grid)  # Open a new window with the same numbers\n"
   ]
  },
  {
   "cell_type": "code",
   "execution_count": 18,
   "metadata": {},
   "outputs": [],
   "source": [
    "\n",
    "def validate_entry(cell, i, j):\n",
    "    value = cell.get()\n",
    "    if not value:  # Check if the value is empty\n",
    "        cell.configure(bg=\"white\")\n",
    "        return True\n",
    "    if not value.isdigit() or not 1 <= int(value) <= size:\n",
    "        cell.configure(bg=\"red\")\n",
    "        return False\n",
    "    value = int(value)\n",
    "    for k in range(size):\n",
    "        if (k != j and entries[i][k].get() == str(value)) or (k != i and entries[k][j].get() == str(value)):\n",
    "            cell.configure(bg=\"red\")\n",
    "            return False\n",
    "    # Check if the value is unique in its sub-grid\n",
    "    if size == 4:\n",
    "        start_row, start_col = i - i % 2, j - j % 2\n",
    "        for x in range(2):\n",
    "            for y in range(2):\n",
    "                if entries[start_row + x][start_col + y].get() == str(value) and (start_row + x != i or start_col + y != j):\n",
    "                    cell.configure(bg=\"red\")\n",
    "                    return False\n",
    "    elif size == 6:\n",
    "        start_row, start_col = i - i % 2, j - j % 3\n",
    "        for x in range(2):\n",
    "            for y in range(3):\n",
    "                if entries[start_row + x][start_col + y].get() == str(value) and (start_row + x != i or start_col + y != j):\n",
    "                    cell.configure(bg=\"red\")\n",
    "                    return False\n",
    "    elif size == 9:\n",
    "        start_row, start_col = i - i % 3, j - j % 3\n",
    "        for x in range(3):\n",
    "            for y in range(3):\n",
    "                if entries[start_row + x][start_col + y].get() == str(value) and (start_row + x != i or start_col + y != j):\n",
    "                    cell.configure(bg=\"red\")\n",
    "                    return False\n",
    "    cell.configure(bg=\"white\")\n",
    "    return True"
   ]
  },
  {
   "cell_type": "code",
   "execution_count": 19,
   "metadata": {},
   "outputs": [],
   "source": [
    "def on_key_release(cell, i, j):\n",
    "    def inner(event):\n",
    "        validate_entry(cell, i, j)\n",
    "    return inner"
   ]
  },
  {
   "cell_type": "markdown",
   "metadata": {},
   "source": [
    "## Panel 2 (Board entry)"
   ]
  },
  {
   "cell_type": "code",
   "execution_count": 20,
   "metadata": {},
   "outputs": [],
   "source": [
    "def grid_window(s):\n",
    "    global entries, size, new_window\n",
    "    size = s\n",
    "    entries = [[None for _ in range(size)] for _ in range(size)]\n",
    "    new_window = tk.Toplevel(root)\n",
    "    new_window.geometry(\"500x500\")\n",
    "\n",
    "    grid_frame = tk.Frame(new_window)  # Create a frame to hold the grid\n",
    "    grid_frame.pack(side='top', expand=True, fill='both')  # Place the frame at the top of the window and allow it to expand and fill the space\n",
    "\n",
    "    for i in range(size):\n",
    "        for j in range(size):\n",
    "            cell = tk.Entry(grid_frame, borderwidth=1, relief=\"solid\", font=(\"Arial\", 25))\n",
    "            cell.grid(row=i, column=j, sticky='nsew')\n",
    "            cell.bind(\"<KeyRelease>\", on_key_release(cell, i, j))\n",
    "            entries[i][j] = cell\n",
    "    grid_frame.grid_columnconfigure(list(range(size)), weight=1)\n",
    "    grid_frame.grid_rowconfigure(list(range(size)), weight=1)\n",
    "\n",
    "    submit_frame = tk.Frame(new_window)  # Create a frame to hold the submit button\n",
    "    submit_frame.pack(side='bottom', expand=True, fill='x')  # Place the frame at the bottom of the window and allow it to expand and fill the space\n",
    "\n",
    "    submit_button = tk.Button(submit_frame, text=\"Submit\", command=submit_click, height=2, width=10, font=(\"Arial\", 10, \"bold\"))  # Set the height, width, and font of the button\n",
    "    submit_button.pack(side='right', expand=True)  # Place the button at the right of the frame and allow it to expand\n"
   ]
  },
  {
   "cell_type": "markdown",
   "metadata": {},
   "source": [
    "## Backtracking"
   ]
  },
  {
   "cell_type": "code",
   "execution_count": 21,
   "metadata": {},
   "outputs": [],
   "source": [
    "def is_valid(board, row, col, num):\n",
    "    grid_size = len(board)\n",
    "    for x in range(grid_size):\n",
    "        if board[row][x] == num:\n",
    "            return False\n",
    "\n",
    "    for x in range(grid_size):\n",
    "        if board[x][col] == num:\n",
    "            return False\n",
    "\n",
    "    if int(math.sqrt(grid_size))**2 == grid_size:  # If the grid size is a perfect square\n",
    "        startRow = row - row % int(math.sqrt(grid_size))\n",
    "        startCol = col - col % int(math.sqrt(grid_size))\n",
    "        for i in range(int(math.sqrt(grid_size))):\n",
    "            for j in range(int(math.sqrt(grid_size))):\n",
    "                if board[i + startRow][j + startCol] == num:\n",
    "                    return False\n",
    "    else:  # If the grid size is not a perfect square\n",
    "        subgrid_height = max(i for i in range(1, int(math.sqrt(grid_size)) + 1) if grid_size % i == 0)\n",
    "        subgrid_width = grid_size // subgrid_height\n",
    "        startRow = row - row % subgrid_height\n",
    "        startCol = col - col % subgrid_width\n",
    "        for i in range(subgrid_height):\n",
    "            for j in range(subgrid_width):\n",
    "                if board[i + startRow][j + startCol] == num:\n",
    "                    return False\n",
    "    return True"
   ]
  },
  {
   "cell_type": "code",
   "execution_count": 22,
   "metadata": {},
   "outputs": [],
   "source": [
    "iteration_count = 0\n",
    "def solve_sudoku_Backtrack(board):\n",
    "    global iteration_count\n",
    "    iteration_count += 1\n",
    "    size = len(board)\n",
    "    for i in range(size):\n",
    "        for j in range(size):\n",
    "            if board[i][j] == 0:\n",
    "                for num in range(1, size + 1):\n",
    "                    if is_valid(board, i, j, num):\n",
    "                        board[i][j] = num\n",
    "                        cells[i][j].config(text=str(board[i][j]))  # Update the cell in the GUI\n",
    "                        root.update_idletasks()  # Update idle tasks\n",
    "                        root.update()  # Update the GUI\n",
    "                        time.sleep(0.01)  # Add a delay\n",
    "                        if solve_sudoku_Backtrack(board):\n",
    "                            return True\n",
    "                        board[i][j] = 0\n",
    "                        cells[i][j].config(text='')  # Update the cell in the GUI\n",
    "                        root.update_idletasks()  # Update idle tasks\n",
    "                        root.update()  # Update the GUI\n",
    "                return False\n",
    "    return True\n"
   ]
  },
  {
   "cell_type": "markdown",
   "metadata": {},
   "source": [
    "## Panel 3 (Sudoku board)"
   ]
  },
  {
   "cell_type": "code",
   "execution_count": 23,
   "metadata": {},
   "outputs": [],
   "source": [
    "def display_grid_window(grid):\n",
    "    global cells, original_grid  \n",
    "    size = len(grid)\n",
    "    new_window = tk.Toplevel(root)\n",
    "    new_window.geometry(\"500x500\")\n",
    "\n",
    "    iteration_label = tk.Label(new_window, text=\"Iterations: 0\")  # Move the iteration_label to the new window\n",
    "    iteration_label.pack()\n",
    "\n",
    "    grid_frame = tk.Frame(new_window)\n",
    "    grid_frame.pack(side='top', expand=True, fill='both')\n",
    "\n",
    "    cells = [[tk.Label(grid_frame, text=grid[i][j], borderwidth=1, relief=\"solid\", font=(\"Arial\", 25)) for j in range(size)] for i in range(size)]\n",
    "    original_grid = [[grid[i][j] for j in range(size)] for i in range(size)]  # Store the original grid\n",
    "    for i in range(size):\n",
    "        for j in range(size):\n",
    "            cells[i][j].grid(row=i, column=j, sticky='nsew')\n",
    "    grid_frame.grid_columnconfigure(list(range(size)), weight=1)\n",
    "    grid_frame.grid_rowconfigure(list(range(size)), weight=1)\n",
    "\n",
    "    def solve_Backtraking():\n",
    "        global iteration_count\n",
    "        iteration_count = 0  # Reset the iteration count\n",
    "        board = [[int(cells[i][j].cget(\"text\")) if cells[i][j].cget(\"text\") != '' else 0 for j in range(size)] for i in range(size)]\n",
    "        if solve_sudoku_Backtrack(board):\n",
    "            for i in range(size):\n",
    "                for j in range(size):\n",
    "                    cells[i][j].config(text=str(board[i][j]))\n",
    "        else:\n",
    "            messagebox.showinfo(\"No Solution\", \"There is no solution to the puzzle.\")\n",
    "        iteration_label.config(text=f\"Iterations: {iteration_count}\")  # Update the label text\n",
    "    def refresh():\n",
    "        for i in range(size):\n",
    "            for j in range(size):\n",
    "                cells[i][j].config(text=str(original_grid[i][j]))  # Reset the cell to its original state\n",
    "    generation_count = 0  # Add a global variable to keep track of the generation count\n",
    "\n",
    "    def solve_genetics():\n",
    "        global generation_count\n",
    "        generation_count = 0  # Reset the generation count\n",
    "        board = [[int(cells[i][j].cget(\"text\")) if cells[i][j].cget(\"text\") != '' else 0 for j in range(size)] for i in range(size)]\n",
    "        for solution in genetic_algorithm(board, num_generations=1000,pm=PM, pc=PC):  \n",
    "            generation_count += 1\n",
    "            for i in range(size):\n",
    "                for j in range(size):\n",
    "                    cells[i][j].config(text=str(solution[i][j]))\n",
    "            root.update_idletasks()  # Update idle tasks\n",
    "            root.update()  # Update the GUI\n",
    "            time.sleep(0.01)  # Add a delay\n",
    "        iteration_label.config(text=f\"Generations: {generation_count}\")  # Update the label text\n",
    "    button_frame = tk.Frame(new_window)\n",
    "    button_frame.pack(side='bottom', expand=True, fill='x')\n",
    "\n",
    "    button1 = tk.Button(button_frame, text=\"Backtraking\", height=2, width=10, font=(\"Arial\", 10, \"bold\"), command=solve_Backtraking)\n",
    "    button1.pack(side='left', expand=True)\n",
    "\n",
    "    button2 = tk.Button(button_frame, text=\"Genetics\", height=2, width=10, font=(\"Arial\", 10, \"bold\"), command=solve_genetics)\n",
    "    button2.pack(side='left', expand=True)\n",
    "\n",
    "    button3 = tk.Button(button_frame, text=\"Refresh\", height=2, width=10, font=(\"Arial\", 10, \"bold\"), command=refresh)\n",
    "    button3.pack(side='left', expand=True)"
   ]
  },
  {
   "cell_type": "markdown",
   "metadata": {},
   "source": [
    "## Panel 1 (Main)"
   ]
  },
  {
   "cell_type": "code",
   "execution_count": 24,
   "metadata": {},
   "outputs": [
    {
     "name": "stdout",
     "output_type": "stream",
     "text": [
      "Submit clicked\n",
      "        \n",
      "    4    \n",
      " 6     3  \n",
      "        \n",
      "   1     \n",
      "        \n",
      "    9    \n",
      "        \n",
      "        \n"
     ]
    }
   ],
   "source": [
    "root = tk.Tk()\n",
    "root.geometry(\"500x200\")  # Adjust the size of the window\n",
    "\n",
    "label = tk.Label(root, text=\"Choose grid size\", font=(\"Arial\", 20, \"bold\"))\n",
    "label.pack()  # Add the label to the window\n",
    "\n",
    "frame = tk.Frame(root)  # Create a frame to hold the buttons\n",
    "frame.pack(side='bottom', expand=True)  # Place the frame at the bottom of the window and allow it to expand\n",
    "\n",
    "button1 = tk.Button(frame, text=\"4 * 4\", command=button1_click, height=2, width=10, font=(\"Arial\", 10, \"bold\"))  # Set the height, width, and font of the button\n",
    "button1.pack(side='left', expand=True)  # Place the button at the left of the frame and allow it to expand\n",
    "\n",
    "button2 = tk.Button(frame, text=\"6 * 6\", command=button2_click, height=2, width=10, font=(\"Arial\", 10, \"bold\"))  # Set the height, width, and font of the button\n",
    "button2.pack(side='left', expand=True)  # Place the button at the left of the frame and allow it to expand\n",
    "\n",
    "button3 = tk.Button(frame, text=\"9 * 9\", command=button3_click, height=2, width=10, font=(\"Arial\", 10, \"bold\"))  # Set the height, width, and font of the button\n",
    "button3.pack(side='left', expand=True)  # Place the button at the left of the frame and allow it to expand\n",
    "\n",
    "root.mainloop()"
   ]
  }
 ],
 "metadata": {
  "kernelspec": {
   "display_name": "Python 3",
   "language": "python",
   "name": "python3"
  },
  "language_info": {
   "codemirror_mode": {
    "name": "ipython",
    "version": 3
   },
   "file_extension": ".py",
   "mimetype": "text/x-python",
   "name": "python",
   "nbconvert_exporter": "python",
   "pygments_lexer": "ipython3",
   "version": "3.11.4"
  }
 },
 "nbformat": 4,
 "nbformat_minor": 2
}
